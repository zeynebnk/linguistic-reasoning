{
  "nbformat": 4,
  "nbformat_minor": 0,
  "metadata": {
    "colab": {
      "provenance": [],
      "collapsed_sections": [
        "W0aJIzNpCY4L",
        "CmT2oP0FCfzv",
        "zK8871oQCicX",
        "ikXDzNRPCohR",
        "ThAH31727iGH",
        "_0sAAyzl7eRo",
        "TB5jlAlmaBBg"
      ]
    },
    "kernelspec": {
      "name": "python3",
      "display_name": "Python 3"
    },
    "language_info": {
      "name": "python"
    }
  },
  "cells": [
    {
      "cell_type": "markdown",
      "source": [
        "to start, upload [data_public_reference_data_dev.zip](https://ukplab.github.io/PuzzLing-Machines/data/public_reference_data_dev.zip) (PuzzLing) and [data.zip](https://github.com/nathanchi/modeLing/blob/main/data.zip) (modeLing) to directory\n",
        "\n",
        "also set api key"
      ],
      "metadata": {
        "id": "zt9dI6PqM0g-"
      }
    },
    {
      "cell_type": "code",
      "source": [
        "import os\n",
        "\n",
        "os.environ['OPENAI_API_KEY'] = ##"
      ],
      "metadata": {
        "id": "j1aHm1SpgJ5y"
      },
      "execution_count": 374,
      "outputs": []
    },
    {
      "cell_type": "markdown",
      "source": [
        "# Process Data"
      ],
      "metadata": {
        "id": "W0aJIzNpCY4L"
      }
    },
    {
      "cell_type": "code",
      "execution_count": 337,
      "metadata": {
        "colab": {
          "base_uri": "https://localhost:8080/"
        },
        "id": "_QmuKYSC6H_a",
        "outputId": "03b2a7b2-23e5-487b-94bb-126185802a81"
      },
      "outputs": [
        {
          "output_type": "stream",
          "name": "stdout",
          "text": [
            "Archive:  /content/data_public_reference_data_dev.zip\n",
            "replace c89b677f974124e2456cf62c2833a192925c80b54df0530c8a9a3f890d1e968b.json? [y]es, [n]o, [A]ll, [N]one, [r]ename: n\n",
            "replace 7ee299cd1ed6a85bb2bfb20227d4435883e951fd395cdb6e348c1f39da90eb22.json? [y]es, [n]o, [A]ll, [N]one, [r]ename: n\n",
            "replace c12893345af3b893e10c7636d5ce45021a0b7afec42e7974b0b659d7642d4949.json? [y]es, [n]o, [A]ll, [N]one, [r]ename: no\n",
            "replace 00ef1258e0aca9700298ad1fd2102d08c822be535775b07009cdb236a1e256b4.json? [y]es, [n]o, [A]ll, [N]one, [r]ename: n\n",
            "replace 3ffcecc4d8cdecaf42fc0bd4b847543103bdb651f4f8e3374121cf7ad7e6d61b.json? [y]es, [n]o, [A]ll, [N]one, [r]ename: n\n",
            "replace 796197ea32f0be576def7da35885e34f2355d8c292a2092909a2b6b2a0e1f791.json? [y]es, [n]o, [A]ll, [N]one, [r]ename: n\n",
            "replace da1ab3a436df76b43d6166ae1c2786e2caf5bfceafde5d5e16b741d645928f5f.json? [y]es, [n]o, [A]ll, [N]one, [r]ename: n\n",
            "replace b1886646ac3f6e86da88a9b743a52e960849f488b9e04c65d7371394d631da61.json? [y]es, [n]o, [A]ll, [N]one, [r]ename: n\n",
            "replace a77783c1f82d55853b0be65f7402fa9995668d77ca996707de4a9b2b249acd78.json? [y]es, [n]o, [A]ll, [N]one, [r]ename: n\n",
            "replace 43114f85daf1648b417f9fbb6b6eb7b30a4188d2df7dbbc81423e966f602dfc7.json? [y]es, [n]o, [A]ll, [N]one, [r]ename: n\n"
          ]
        }
      ],
      "source": [
        "!unzip /content/data_public_reference_data_dev.zip"
      ]
    },
    {
      "cell_type": "code",
      "source": [
        "ls = ['00ef1258e0aca9700298ad1fd2102d08c822be535775b07009cdb236a1e256b4.json',\n",
        "'3ffcecc4d8cdecaf42fc0bd4b847543103bdb651f4f8e3374121cf7ad7e6d61b.json',\n",
        "'43114f85daf1648b417f9fbb6b6eb7b30a4188d2df7dbbc81423e966f602dfc7.json',\n",
        "'796197ea32f0be576def7da35885e34f2355d8c292a2092909a2b6b2a0e1f791.json',\n",
        "'7ee299cd1ed6a85bb2bfb20227d4435883e951fd395cdb6e348c1f39da90eb22.json',\n",
        "'a77783c1f82d55853b0be65f7402fa9995668d77ca996707de4a9b2b249acd78.json',\n",
        "'b1886646ac3f6e86da88a9b743a52e960849f488b9e04c65d7371394d631da61.json',\n",
        "'c12893345af3b893e10c7636d5ce45021a0b7afec42e7974b0b659d7642d4949.json',\n",
        "'c89b677f974124e2456cf62c2833a192925c80b54df0530c8a9a3f890d1e968b.json',\n",
        "'da1ab3a436df76b43d6166ae1c2786e2caf5bfceafde5d5e16b741d645928f5f.json']"
      ],
      "metadata": {
        "id": "jkaBc1bH6POb"
      },
      "execution_count": 338,
      "outputs": []
    },
    {
      "cell_type": "code",
      "source": [
        "data = []\n",
        "for f in ls:\n",
        "\n",
        "    with open('/content/'+f, 'r') as fil:\n",
        "      data.append(dict(eval(fil.read())))"
      ],
      "metadata": {
        "id": "kJp055jx6pjL"
      },
      "execution_count": 339,
      "outputs": []
    },
    {
      "cell_type": "code",
      "source": [
        "og_pset = []\n",
        "\n",
        "for s in data:\n",
        "  src = s['source_language'].strip()\n",
        "  tgt = s['target_language'].strip()\n",
        "\n",
        "  d = {}\n",
        "  d[src] = [c[0] for c in s['train']]\n",
        "  d[tgt] = [c[1] for c in s['train']]\n",
        "\n",
        "  d[src + \"_test\"] = [c[0] for c in s['test']]\n",
        "  d[tgt + \"_test\"] = [c[1] for c in s['test']]\n",
        "\n",
        "  og_pset.append(d)"
      ],
      "metadata": {
        "id": "JIIsG7fUuIyJ"
      },
      "execution_count": 340,
      "outputs": []
    },
    {
      "cell_type": "markdown",
      "source": [
        "# Generate Translations"
      ],
      "metadata": {
        "id": "CmT2oP0FCfzv"
      }
    },
    {
      "cell_type": "code",
      "source": [
        "!pip install -U deep-translator\n",
        "from deep_translator import GoogleTranslator"
      ],
      "metadata": {
        "colab": {
          "base_uri": "https://localhost:8080/"
        },
        "id": "koS5OMyj_AF7",
        "outputId": "52b407ec-b7a0-4a09-ad4d-0576c78a820d"
      },
      "execution_count": 341,
      "outputs": [
        {
          "output_type": "stream",
          "name": "stdout",
          "text": [
            "Requirement already satisfied: deep-translator in /usr/local/lib/python3.11/dist-packages (1.11.4)\n",
            "Requirement already satisfied: beautifulsoup4<5.0.0,>=4.9.1 in /usr/local/lib/python3.11/dist-packages (from deep-translator) (4.13.3)\n",
            "Requirement already satisfied: requests<3.0.0,>=2.23.0 in /usr/local/lib/python3.11/dist-packages (from deep-translator) (2.32.3)\n",
            "Requirement already satisfied: soupsieve>1.2 in /usr/local/lib/python3.11/dist-packages (from beautifulsoup4<5.0.0,>=4.9.1->deep-translator) (2.6)\n",
            "Requirement already satisfied: typing-extensions>=4.0.0 in /usr/local/lib/python3.11/dist-packages (from beautifulsoup4<5.0.0,>=4.9.1->deep-translator) (4.12.2)\n",
            "Requirement already satisfied: charset-normalizer<4,>=2 in /usr/local/lib/python3.11/dist-packages (from requests<3.0.0,>=2.23.0->deep-translator) (3.4.1)\n",
            "Requirement already satisfied: idna<4,>=2.5 in /usr/local/lib/python3.11/dist-packages (from requests<3.0.0,>=2.23.0->deep-translator) (3.10)\n",
            "Requirement already satisfied: urllib3<3,>=1.21.1 in /usr/local/lib/python3.11/dist-packages (from requests<3.0.0,>=2.23.0->deep-translator) (2.3.0)\n",
            "Requirement already satisfied: certifi>=2017.4.17 in /usr/local/lib/python3.11/dist-packages (from requests<3.0.0,>=2.23.0->deep-translator) (2025.1.31)\n"
          ]
        }
      ]
    },
    {
      "cell_type": "code",
      "source": [
        "def translate_chunk(langs, train_chunk, test_chunk):\n",
        "  results = []\n",
        "\n",
        "  for lang in langs:\n",
        "\n",
        "    train_translations, test_translations = [], []\n",
        "    for s in train_chunk:\n",
        "        train_translations.append(GoogleTranslator(source='en', target=lang).translate(s))\n",
        "    for s in test_chunk:\n",
        "        test_translations.append(GoogleTranslator(source='en', target=lang).translate(s))\n",
        "\n",
        "    results.append((lang, train_translations, test_translations))\n",
        "\n",
        "  return results\n",
        "\n",
        "def generate_translations(problemset, langs):\n",
        "\n",
        "    tasks = []\n",
        "    for s in problemset:\n",
        "\n",
        "      train_chunk = s['english']\n",
        "      test_chunk = s['english_test']\n",
        "      tasks.append(translate_chunk(langs, train_chunk, test_chunk))\n",
        "\n",
        "    all_translations = tasks\n",
        "\n",
        "    for s, translations in zip(problemset, all_translations):\n",
        "        for lang, train, test in translations:\n",
        "            s[lang] = train\n",
        "            s[lang + \"_test\"] = test\n",
        "\n",
        "    return problemset"
      ],
      "metadata": {
        "id": "l3FaYMJ8t9Md"
      },
      "execution_count": 342,
      "outputs": []
    },
    {
      "cell_type": "markdown",
      "source": [
        "# Pair off + Generate Augmentations"
      ],
      "metadata": {
        "id": "zK8871oQCicX"
      }
    },
    {
      "cell_type": "code",
      "source": [
        "from itertools import combinations\n",
        "\n",
        "def pair_off(problemset):\n",
        "\n",
        "  out = []\n",
        "\n",
        "  for problem in problemset:\n",
        "    langs = [c for c in problem.keys() if \"_test\" not in c]\n",
        "    pairs = list(combinations(langs, 2))\n",
        "\n",
        "    for pair in pairs:\n",
        "      out.append({\n",
        "          \"source_language\": pair[0],\n",
        "          \"target_language\": pair[1],\n",
        "          \"train\": list(zip(problem[pair[0]], problem[pair[1]])),\n",
        "          \"test\": list(zip(problem[pair[0]+\"_test\"], problem[pair[1]+\"_test\"]))})\n",
        "\n",
        "  return out"
      ],
      "metadata": {
        "id": "1crY1xaD_oRD"
      },
      "execution_count": 343,
      "outputs": []
    },
    {
      "cell_type": "markdown",
      "source": [
        "# Symbolize Corruption"
      ],
      "metadata": {
        "id": "ikXDzNRPCohR"
      }
    },
    {
      "cell_type": "code",
      "source": [
        "\n",
        "# method 2\n",
        "import random\n",
        "import re\n",
        "def symbolize(sents, test_sents):\n",
        "\n",
        "  alphabet = list(set([char.lower() for char in [p for xs in sents + test_sents for p in xs]]))\n",
        "  symbols = [c for c in \"qwertyuiopasdfghjklzxcvbnmáâæàåãäçéêèðëíîìïñóôòøõößþúûùüýÿ\"][:len(alphabet)]\n",
        "  random.shuffle(symbols)\n",
        "\n",
        "\n",
        "\n",
        "  mapping = dict(zip(alphabet, symbols))\n",
        "\n",
        "  for x in [c for c in \"!#$%&'()*+,-./:;<=>?@[\\]^_`{|}~ \"]:\n",
        "    mapping[x] = x\n",
        "\n",
        "  return [\"\".join([mapping[a.lower()] for a in w]) for w in sents], [\"\".join([mapping[a.lower()] for a in w]) for w in test_sents]"
      ],
      "metadata": {
        "id": "IRrGyd0rNSTm"
      },
      "execution_count": 344,
      "outputs": []
    },
    {
      "cell_type": "markdown",
      "source": [
        "# Tune / Train"
      ],
      "metadata": {
        "id": "ThAH31727iGH"
      }
    },
    {
      "cell_type": "code",
      "source": [
        "\n",
        "def formatFTPrompt(data, dir=\">\"):\n",
        "\n",
        "  if dir == \">\":\n",
        "\n",
        "    prompt = \"\\n\".join([c[0] + \" > \" + c[1] for c in data['train']])\n",
        "\n",
        "    prompt += \"\\n\"\n",
        "\n",
        "    prompt += \"\\n\".join([c[0] + \" > \" for c in data['test']])\n",
        "\n",
        "\n",
        "    ans = \"\\n\".join([c[1] for c in data['test']])\n",
        "\n",
        "  if dir == \"<\":\n",
        "\n",
        "    prompt = \"\\n\".join([c[1] + \" > \" + c[0] for c in data['train']])\n",
        "\n",
        "    prompt += \"\\n\"\n",
        "\n",
        "    prompt += \"\\n\".join([c[1] + \" > \" for c in data['test']])\n",
        "\n",
        "\n",
        "    ans = \"\\n\".join([c[0] for c in data['test']])\n",
        "\n",
        "\n",
        "  return {\"messages\": [{\"role\": \"system\", \"content\": \"You are a few-shot translator\"}, {\"role\": \"user\", \"content\": prompt}, {\"role\": \"assistant\", \"content\": ans}]}\n"
      ],
      "metadata": {
        "id": "67pVZIXD7lRB"
      },
      "execution_count": 345,
      "outputs": []
    },
    {
      "cell_type": "code",
      "source": [
        "\n",
        "def finetune(path, model):\n",
        "\n",
        "  from openai import OpenAI\n",
        "  client = OpenAI()\n",
        "\n",
        "\n",
        "  f = client.files.create(\n",
        "    file=open(path, \"rb\"),\n",
        "    purpose=\"fine-tune\"\n",
        "  )\n",
        "\n",
        "  m = client.fine_tuning.jobs.create(\n",
        "  training_file=f.id,\n",
        "  model=model\n",
        "  )"
      ],
      "metadata": {
        "id": "SdiEdiEo7qnm"
      },
      "execution_count": 346,
      "outputs": []
    },
    {
      "cell_type": "code",
      "source": [
        "\n",
        "def formatTestPrompt(data):\n",
        "\n",
        "  prompt_1 = \"\\n\".join([c[0] + \" > \" + c[1] for c in data['train']])\n",
        "\n",
        "  prompt_1 += \"\\n\"\n",
        "\n",
        "  prompt_1 += \"\\n\".join([c[0] + c[1] for c in data['test'] if c[2] == \">\"])\n",
        "\n",
        "\n",
        "  prompt_2 = \"\\n\".join([c[1] + \" > \" + c[0] for c in data['train']])\n",
        "\n",
        "  prompt_2 += \"\\n\"\n",
        "\n",
        "  prompt_2 += \"\\n\".join([c[0] + c[1] for c in data['test'] if c[2] == \"<\"])\n",
        "\n",
        "  return prompt_1, prompt_2, len([c[0] + c[1] for c in data['test'] if c[2] == \">\"]), len([c[0] + c[1] for c in data['test'] if c[2] == \"<\"])"
      ],
      "metadata": {
        "id": "nFYOgfg88hsB"
      },
      "execution_count": 347,
      "outputs": []
    },
    {
      "cell_type": "markdown",
      "source": [
        "# Eval"
      ],
      "metadata": {
        "id": "_0sAAyzl7eRo"
      }
    },
    {
      "cell_type": "code",
      "source": [
        "# !unzip -P linguisticreasoning /content/dataset.zip -d /content/ling"
      ],
      "metadata": {
        "id": "isANuj2_AYBu"
      },
      "execution_count": 348,
      "outputs": []
    },
    {
      "cell_type": "code",
      "source": [
        "!unzip -P modeling /content/data.zip -d /content/modeling"
      ],
      "metadata": {
        "colab": {
          "base_uri": "https://localhost:8080/"
        },
        "id": "jp02O1vS7s5-",
        "outputId": "dab61ba6-fc8a-4991-cde2-245724434d91"
      },
      "execution_count": 349,
      "outputs": [
        {
          "output_type": "stream",
          "name": "stdout",
          "text": [
            "Archive:  /content/data.zip\n",
            "replace /content/modeling/final_modeLing.json? [y]es, [n]o, [A]ll, [N]one, [r]ename: n\n"
          ]
        }
      ]
    },
    {
      "cell_type": "code",
      "source": [
        "data = []\n",
        "\n",
        "with open(\"/content/modeling/final_modeLing.json\",'r') as f:\n",
        "  data = eval(f.read())"
      ],
      "metadata": {
        "id": "ZoQ4EDLdPQjC"
      },
      "execution_count": 350,
      "outputs": []
    },
    {
      "cell_type": "code",
      "source": [
        "\n",
        "def format_modeLing(data):\n",
        "\n",
        "  src = data['data'][0].split(\"\\n\")[0].split(\":\")[0]\n",
        "  tgt = data['data'][0].split(\"\\n\")[1].split(\":\")[0]\n",
        "\n",
        "  sents = [(x.split(\"\\n\")[0].split(\":\")[1],x.split(\"\\n\")[1].split(\":\")[1]) for x in data['data']]\n",
        "\n",
        "  q1 = [x.split(\":\")[1] for x in data['questions'] if x.split(\":\")[0] == src]\n",
        "  q2 = [x.split(\":\")[1] for x in data['questions'] if x.split(\":\")[0] == tgt]\n",
        "\n",
        "  a1 = [x.split(\":\")[1] for x in data['answers'] if x.split(\":\")[0] == tgt]\n",
        "  a2 = [x.split(\":\")[1] for x in data['answers'] if x.split(\":\")[0] == src]\n",
        "\n",
        "  return sents, q1, q2, a1, a2\n",
        "\n",
        "\n",
        "\n",
        "def format_modeLing_prompts(sents, q1, q2, a1, a2):\n",
        "\n",
        "  prompt_1 = \"\\n\".join([c[0] + \" > \" + c[1] for c in sents])\n",
        "\n",
        "  prompt_1 += \"\\n\"\n",
        "\n",
        "  prompt_1 += \"\\n\".join([c + \" > \" for c in q1])\n",
        "\n",
        "\n",
        "  prompt_2 = \"\\n\".join([c[1] + \" > \" + c[0] for c in sents])\n",
        "\n",
        "  prompt_2 += \"\\n\"\n",
        "\n",
        "  prompt_2 += \"\\n\".join([c + \" > \" for c in q2])\n",
        "\n",
        "  return prompt_1, prompt_2\n",
        ""
      ],
      "metadata": {
        "id": "UhtP1aL_XcdQ"
      },
      "execution_count": 351,
      "outputs": []
    },
    {
      "cell_type": "code",
      "source": [
        "\n",
        "def postprocess_answer(answer):\n",
        "\n",
        "  ret = []\n",
        "\n",
        "  for ans in answer.split(\"\\n\"):\n",
        "    if ans not in [\" \", \"\"]:\n",
        "      if \">\" in ans:\n",
        "        ans = ans.split(\">\")[1]\n",
        "\n",
        "      ret.append(ans.strip())\n",
        "\n",
        "  return ret\n",
        "\n",
        "def getAnswers(test_prompt_1, test_prompt_2, t1, t2,\n",
        "               output_spef = \"\", model = \"ft:gpt-3.5-turbo-0125:personal::B3WxHG8u\"):\n",
        "\n",
        "  t1_preds, t2_preds = \"\",\"\"\n",
        "  if t1 > 0:\n",
        "    t1_preds = getCompletion(test_prompt_1, output_spef, model)\n",
        "\n",
        "  if t2 > 0:\n",
        "    t2_preds = getCompletion(test_prompt_2, output_spef, model)\n",
        "\n",
        "  return postprocess_answer(t1_preds), postprocess_answer(t2_preds)\n"
      ],
      "metadata": {
        "id": "m9batt9WanWo"
      },
      "execution_count": 352,
      "outputs": []
    },
    {
      "cell_type": "code",
      "source": [
        "from openai import OpenAI\n",
        "client = OpenAI()\n",
        "\n",
        "def getCompletion(prompt, output_spef, model):\n",
        "  completion = client.chat.completions.create(\n",
        "    model=model,\n",
        "    messages=[\n",
        "      {\"role\": \"system\", \"content\": \"You are a few-shot translator\"},\n",
        "      {\"role\": \"user\", \"content\": prompt + \"\\n\" + output_spef}\n",
        "    ]\n",
        "  )\n",
        "  return completion.choices[0].message.content"
      ],
      "metadata": {
        "id": "OkVUgRacbtNN"
      },
      "execution_count": 353,
      "outputs": []
    },
    {
      "cell_type": "code",
      "source": [
        "\n",
        "def getFullPreds(models):\n",
        "\n",
        "  d = []\n",
        "  for problem in data['problems']:\n",
        "\n",
        "    res = {}\n",
        "\n",
        "    sents, q1, q2, a1, a2 = format_modeLing(problem)\n",
        "\n",
        "    src_tgt_prompt, tgt_src_prompt = format_modeLing_prompts(sents, q1, q2, a1, a2)\n",
        "\n",
        "    res['sents'] = sents\n",
        "    res['q >'] = q1\n",
        "    res[\"q <\"] = q2\n",
        "    res[\"a >\"] = a1\n",
        "    res[\"a <\"] = a2\n",
        "\n",
        "    res['context >'] = src_tgt_prompt\n",
        "    res['context <'] = tgt_src_prompt\n",
        "\n",
        "    for m in models:\n",
        "      model_path = models[m]\n",
        "\n",
        "      output_spef = \"\"\n",
        "\n",
        "      if model_path[0] != \"f\":\n",
        "        output_spef = \"Translate the untranslated sentences. Give one translation per line.\"\n",
        "\n",
        "      preds = getAnswers(src_tgt_prompt, tgt_src_prompt, len(q1), len(q2), output_spef=output_spef, model=model_path)\n",
        "      res[m + \"_pred >\"] = preds[0][:len(a1)] + [\"\"] * (len(a1) - len(preds[0]))\n",
        "      res[m + \"_pred <\"] = preds[1][:len(a2)]+ [\"\"] * (len(a2) - len(preds[1]))\n",
        "\n",
        "    d.append(res)\n",
        "\n",
        "  return d"
      ],
      "metadata": {
        "id": "pfHyzN4u_c2n"
      },
      "execution_count": 391,
      "outputs": []
    },
    {
      "cell_type": "code",
      "source": [
        "from collections import Counter\n",
        "from typing import List, Tuple, Dict\n",
        "import math\n",
        "import re\n",
        "\n",
        "\n",
        "def exact_match(prediction: str, reference: str) -> float:\n",
        "    \"\"\"\n",
        "    Compute exact match score between prediction and reference.\n",
        "    Returns 1.0 if strings match exactly, 0.0 otherwise.\n",
        "    \"\"\"\n",
        "    return float(prediction.strip() == reference.strip())\n",
        "\n",
        "def get_char_ngrams(text: str, n: int) -> List[str]:\n",
        "    \"\"\"\n",
        "    Get character n-grams from text.\n",
        "    \"\"\"\n",
        "    return [text[i:i+n] for i in range(len(text)-n+1)]\n",
        "\n",
        "def chrf(prediction: str, reference: str, n: int = 6, beta: float = 2.0) -> float:\n",
        "    \"\"\"\n",
        "    Compute chrF score between prediction and reference.\n",
        "\n",
        "    Args:\n",
        "        prediction: Predicted text\n",
        "        reference: Reference text\n",
        "        n: Maximum length of character n-grams (default: 6)\n",
        "        beta: Weight of recall over precision (default: 2.0)\n",
        "    Returns:\n",
        "        chrF score between 0.0 and 1.0\n",
        "    \"\"\"\n",
        "    # Initialize variables for storing n-gram matches\n",
        "    total_precision = 0.0\n",
        "    total_recall = 0.0\n",
        "\n",
        "    # Calculate for different n-gram lengths\n",
        "    for i in range(1, n+1):\n",
        "        # Get character n-grams\n",
        "        pred_ngrams = get_char_ngrams(prediction, i)\n",
        "        ref_ngrams = get_char_ngrams(reference, i)\n",
        "\n",
        "        # Count n-grams\n",
        "        pred_counts = Counter(pred_ngrams)\n",
        "        ref_counts = Counter(ref_ngrams)\n",
        "\n",
        "        # Calculate matches\n",
        "        matches = sum((pred_counts & ref_counts).values())\n",
        "\n",
        "        # Calculate precision and recall for this n-gram length\n",
        "        if len(pred_ngrams) > 0:\n",
        "            precision = matches / len(pred_ngrams)\n",
        "        else:\n",
        "            precision = 0.0\n",
        "\n",
        "        if len(ref_ngrams) > 0:\n",
        "            recall = matches / len(ref_ngrams)\n",
        "        else:\n",
        "            recall = 0.0\n",
        "\n",
        "        total_precision += precision\n",
        "        total_recall += recall\n",
        "\n",
        "    # Average precision and recall across n-gram lengths\n",
        "    avg_precision = total_precision / n\n",
        "    avg_recall = total_recall / n\n",
        "\n",
        "    # Handle edge cases\n",
        "    if avg_precision == 0.0 and avg_recall == 0.0:\n",
        "        return 0.0\n",
        "\n",
        "    # Calculate final chrF score\n",
        "    beta_squared = beta * beta\n",
        "    score = (1 + beta_squared) * (avg_precision * avg_recall) / \\\n",
        "            (beta_squared * avg_precision + avg_recall)\n",
        "\n",
        "    return score\n",
        "\n",
        "\n",
        "def evaluate_corpus(predictions: List[str], references: List[str]) -> Dict[str, float]:\n",
        "    \"\"\"\n",
        "    Evaluate multiple sentences and compute average scores.\n",
        "\n",
        "    Args:\n",
        "        predictions: List of predicted sentences\n",
        "        references: List of reference sentences\n",
        "    Returns:\n",
        "        Dictionary containing average scores for each metric\n",
        "    \"\"\"\n",
        "    if len(predictions) != len(references):\n",
        "        raise ValueError(\"Number of predictions must match number of references\")\n",
        "\n",
        "    # Initialize score accumulators\n",
        "    total_scores = {\n",
        "        'exact_match': 0.0,\n",
        "        'chrf': 0.0\n",
        "    }\n",
        "\n",
        "    # Calculate scores for each sentence pair\n",
        "    for pred, ref in zip(predictions, references):\n",
        "        pred = re.sub('[^a-z]','',pred.lower())\n",
        "        ref = re.sub('[^a-z]','',ref.lower())\n",
        "\n",
        "        total_scores['exact_match'] += exact_match(pred, ref)\n",
        "        total_scores['chrf'] += chrf(pred, ref)\n",
        "\n",
        "    # Calculate averages\n",
        "    n_sentences = len(predictions)\n",
        "    avg_scores = {\n",
        "        metric: score / n_sentences\n",
        "        for metric, score in total_scores.items()\n",
        "    }\n",
        "\n",
        "    return avg_scores"
      ],
      "metadata": {
        "id": "fxa86JkSkxzo"
      },
      "execution_count": 355,
      "outputs": []
    },
    {
      "cell_type": "code",
      "source": [
        "\n",
        "def score(models, d):\n",
        "\n",
        "  scores = {}\n",
        "\n",
        "\n",
        "  ## avg scores\n",
        "\n",
        "  for m in models:\n",
        "\n",
        "    predictions = [[res[m + \"_pred >\"], res[m + \"_pred <\"]] for res in d]\n",
        "    references = [[res[\"a >\"], res[\"a <\"]] for res in d]\n",
        "\n",
        "    predictions = [item.strip() for level1 in predictions\n",
        "                for level2 in level1\n",
        "                for item in level2]\n",
        "    references = [item.strip() for level1 in references\n",
        "                for level2 in level1\n",
        "                for item in level2]\n",
        "\n",
        "    avg_scores = evaluate_corpus(predictions, references)\n",
        "\n",
        "    scores[m + '_preds'] = avg_scores\n",
        "\n",
        "\n",
        "  ## by dir\n",
        "\n",
        "  for m in models:\n",
        "\n",
        "    predictions = [res[m + \"_pred >\"] for res in d]\n",
        "    references = [res[\"a >\"] for res in d]\n",
        "\n",
        "    predictions = [item.strip() for level1 in predictions\n",
        "                for item in level1]\n",
        "    references = [item.strip() for level1 in references\n",
        "                for item in level1]\n",
        "\n",
        "    avg_scores = evaluate_corpus(predictions, references)\n",
        "\n",
        "    scores[m + '_preds >'] = avg_scores\n",
        "\n",
        "    predictions = [res[m + \"_pred <\"] for res in d]\n",
        "    references = [res[\"a <\"] for res in d]\n",
        "\n",
        "    predictions = [item.strip() for level1 in predictions\n",
        "                for item in level1]\n",
        "    references = [item.strip() for level1 in references\n",
        "                for item in level1]\n",
        "\n",
        "    avg_scores = evaluate_corpus(predictions, references)\n",
        "\n",
        "    scores[m + '_preds <'] = avg_scores\n",
        "\n",
        "\n",
        "  ## by diff\n",
        "\n",
        "  difficulties = [c['difficulty'] for c in data['problems']]\n",
        "  difficulties = [[c for c in range(len(difficulties)) if difficulties[c] == diff] for diff in [1, 2, 3, 4, 5]]\n",
        "\n",
        "  for diff, idxs in enumerate(difficulties):\n",
        "\n",
        "    for m in models:\n",
        "\n",
        "      predictions = [[res[m + \"_pred >\"], res[m + \"_pred <\"]] for res in d]\n",
        "      references = [[res[\"a >\"], res[\"a <\"]] for res in d]\n",
        "\n",
        "      predictions = [predictions[i] for i in idxs]\n",
        "      references = [references[i] for i in idxs]\n",
        "\n",
        "      predictions = [item.strip() for level1 in predictions\n",
        "                  for level2 in level1\n",
        "                  for item in level2]\n",
        "      references = [item.strip() for level1 in references\n",
        "                  for level2 in level1\n",
        "                  for item in level2]\n",
        "\n",
        "      avg_scores = evaluate_corpus(predictions, references)\n",
        "\n",
        "      scores[m + '_preds_'+str(diff + 1)] = avg_scores\n",
        "\n",
        "\n",
        "\n",
        "  return scores"
      ],
      "metadata": {
        "id": "XcsUkXKwAxga"
      },
      "execution_count": 356,
      "outputs": []
    },
    {
      "cell_type": "markdown",
      "source": [
        "# Pipeline"
      ],
      "metadata": {
        "id": "kJJo-Pt88zp_"
      }
    },
    {
      "cell_type": "markdown",
      "source": [
        "Get Data"
      ],
      "metadata": {
        "id": "vF_WNT719AgO"
      }
    },
    {
      "cell_type": "code",
      "source": [
        "original_dataset = pair_off(generate_translations(og_pset, []))"
      ],
      "metadata": {
        "id": "gxhHolnDHYA6"
      },
      "execution_count": 357,
      "outputs": []
    },
    {
      "cell_type": "code",
      "source": [
        "langs = ['fr', 'it', 'tr', 'ru'] #['fr','zh-CN', 'it', 'tr', 'ru'] ## ?? which ones\n",
        "\n",
        "pset = generate_translations(og_pset, langs)\n",
        "augmented_dataset = pair_off(pset)"
      ],
      "metadata": {
        "id": "8XqYG-_Sa-DV"
      },
      "execution_count": 358,
      "outputs": []
    },
    {
      "cell_type": "code",
      "source": [
        "import copy\n",
        "augmented_dataset_base = copy.deepcopy(augmented_dataset)"
      ],
      "metadata": {
        "id": "_DMuDyjO9K0M"
      },
      "execution_count": 359,
      "outputs": []
    },
    {
      "cell_type": "code",
      "source": [
        "for task in augmented_dataset:\n",
        "\n",
        "  src_symbolized = symbolize([c[0] for c in task['train']], [c[0] for c in task['test']])\n",
        "  tgt_symbolized = symbolize([c[1] for c in task['train']], [c[1] for c in task['test']])\n",
        "\n",
        "  task['train'] = list(zip(src_symbolized[0], tgt_symbolized[0]))\n",
        "  task['test'] = list(zip(src_symbolized[1], tgt_symbolized[1]))\n",
        "\n",
        "for task in augmented_dataset_base:\n",
        "\n",
        "  task['train'] = list(zip([c[0] for c in task['train']], [c[1] for c in task['train']]))\n",
        "  task['test'] = list(zip([c[0] for c in task['test']], [c[1] for c in task['test']]))"
      ],
      "metadata": {
        "id": "NEbspC9KbqhC"
      },
      "execution_count": 360,
      "outputs": []
    },
    {
      "cell_type": "code",
      "source": [
        "with open(\"/content/augmented_dataset_symbolized.json\", \"w\") as f:\n",
        "  f.write(str(augmented_dataset))\n",
        "\n",
        "with open(\"/content/augmented_dataset_base.json\", \"w\") as f:\n",
        "  f.write(str(augmented_dataset_base))\n",
        "\n",
        "with open(\"/content/original_dataset.json\", \"w\") as f:\n",
        "  f.write(str(original_dataset))"
      ],
      "metadata": {
        "id": "0rqCEv9wGogG"
      },
      "execution_count": 361,
      "outputs": []
    },
    {
      "cell_type": "code",
      "source": [
        "symbolized_data = []\n",
        "with open(\"/content/augmented_dataset_symbolized.json\", \"r\") as f:\n",
        "  symbolized_data = list(eval(f.read()))\n",
        "\n",
        "augmented_data = []\n",
        "with open(\"/content/augmented_dataset_base.json\", \"r\") as f:\n",
        "  augmented_data = list(eval(f.read()))\n",
        "\n",
        "original_data = []\n",
        "with open(\"/content/original_dataset.json\", \"r\") as f:\n",
        "  original_data = list(eval(f.read()))"
      ],
      "metadata": {
        "id": "tJ9nzlJBGuCU"
      },
      "execution_count": 362,
      "outputs": []
    },
    {
      "cell_type": "code",
      "source": [
        "len(symbolized_data), len(augmented_data), len(original_data)"
      ],
      "metadata": {
        "colab": {
          "base_uri": "https://localhost:8080/"
        },
        "id": "vosGrtxYDKv7",
        "outputId": "ddc59d8a-0964-42f0-c1b2-d306d6ea4924"
      },
      "execution_count": 363,
      "outputs": [
        {
          "output_type": "execute_result",
          "data": {
            "text/plain": [
              "(150, 150, 10)"
            ]
          },
          "metadata": {},
          "execution_count": 363
        }
      ]
    },
    {
      "cell_type": "code",
      "source": [
        "print(\"symbolized data\")\n",
        "print(symbolized_data[1]['train'][0])\n",
        "\n",
        "print(\"augment-only data\")\n",
        "print(augmented_data[1]['train'][0])\n",
        "\n",
        "print(\"original data\")\n",
        "print(original_dataset[1]['train'][0])"
      ],
      "metadata": {
        "colab": {
          "base_uri": "https://localhost:8080/"
        },
        "id": "wiQ83hQAExhg",
        "outputId": "a39900d4-b9ac-44c7-e90f-511d93aecc43"
      },
      "execution_count": 364,
      "outputs": [
        {
          "output_type": "stream",
          "name": "stdout",
          "text": [
            "symbolized data\n",
            "('rkug ukak fwlokuqwfk rkfdw dwtwdwdw rgfdwlqkl.', \"t'çtfâât ãwrq t'áâaaw åsè wdà àâsyâsãd êtkag æçàèmsg.\")\n",
            "augment-only data\n",
            "('bayi yaɽa ŋunȷaymuŋa baŋgu gurugugu biŋgunman.', \"L'alcool rend l'homme qui est toujours blâmé fatigué.\")\n",
            "original data\n",
            "('Bussen stanser her.', 'The bus stops here.')\n"
          ]
        }
      ]
    },
    {
      "cell_type": "markdown",
      "source": [
        "Fine-tune"
      ],
      "metadata": {
        "id": "-ZkNfsdc9gug"
      }
    },
    {
      "cell_type": "code",
      "source": [
        "'''\n",
        "import pandas as pd\n",
        "\n",
        "# save symbolized data\n",
        "w_smb = pd.DataFrame([formatFTPrompt(pt,\">\") for pt in symbolized_data] + [formatFTPrompt(pt,\"<\") for pt in symbolized_data])\n",
        "with open(\"/content/ft_symbolized_data.jsonl\", \"w\") as f:\n",
        "    f.write(w_smb.to_json(orient=\"records\", lines=True, force_ascii=False))\n",
        "\n",
        "# save augmented data\n",
        "w_aug = pd.DataFrame([formatFTPrompt(pt,\">\") for pt in augmented_data] + [formatFTPrompt(pt,\"<\") for pt in augmented_data])\n",
        "with open(\"/content/ft_augmented_data.jsonl\", \"w\") as f:\n",
        "    f.write(w_aug.to_json(orient=\"records\", lines=True, force_ascii=False))\n",
        "\n",
        "# save og data\n",
        "w_og = pd.DataFrame([formatFTPrompt(pt,\">\") for pt in original_data] + [formatFTPrompt(pt,\"<\") for pt in original_data])\n",
        "with open(\"/content/original_dataset.jsonl\", \"w\") as f:\n",
        "    f.write(w_og.to_json(orient=\"records\", lines=True, force_ascii=False))\n",
        "\n",
        "len(w_smb), len(w_aug), len(w_og) ## GETTING DATA BOTH WAYS -> permutations, not combinations of language pairs\n",
        "'''"
      ],
      "metadata": {
        "id": "B4Hp6QnM6YnV"
      },
      "execution_count": 228,
      "outputs": []
    },
    {
      "cell_type": "code",
      "source": [
        "\n",
        "import pandas as pd\n",
        "\n",
        "# save symbolized data\n",
        "w_smb = pd.DataFrame([formatFTPrompt(pt,\">\") for pt in symbolized_data])\n",
        "with open(\"/content/ft_symbolized_data.jsonl\", \"w\") as f:\n",
        "    f.write(w_smb.to_json(orient=\"records\", lines=True, force_ascii=False))\n",
        "\n",
        "# save augmented data\n",
        "w_aug = pd.DataFrame([formatFTPrompt(pt,\">\") for pt in augmented_data])\n",
        "with open(\"/content/ft_augmented_data.jsonl\", \"w\") as f:\n",
        "    f.write(w_aug.to_json(orient=\"records\", lines=True, force_ascii=False))\n",
        "\n",
        "# save og data\n",
        "w_og = pd.DataFrame([formatFTPrompt(pt,\">\") for pt in original_data])\n",
        "with open(\"/content/original_dataset.jsonl\", \"w\") as f:\n",
        "    f.write(w_og.to_json(orient=\"records\", lines=True, force_ascii=False))\n",
        "\n",
        "len(w_smb), len(w_aug), len(w_og)\n"
      ],
      "metadata": {
        "colab": {
          "base_uri": "https://localhost:8080/"
        },
        "id": "Ur7DoUTYKPcH",
        "outputId": "529a8b10-70e0-41d4-a7e6-00de5c3fc261"
      },
      "execution_count": 365,
      "outputs": [
        {
          "output_type": "execute_result",
          "data": {
            "text/plain": [
              "(150, 150, 10)"
            ]
          },
          "metadata": {},
          "execution_count": 365
        }
      ]
    },
    {
      "cell_type": "code",
      "source": [
        "print(\"PROMPT\")\n",
        "print(list(eval(str(w_og.iloc[0]['messages'])))[1]['content'])\n",
        "print(\"\\n\")\n",
        "print(\"EXPECTED RESPONSE\")\n",
        "print(list(eval(str(w_og.iloc[0]['messages'])))[2]['content'])"
      ],
      "metadata": {
        "colab": {
          "base_uri": "https://localhost:8080/"
        },
        "id": "Ar_r9bkJI4NV",
        "outputId": "5a4058f0-7784-48dd-c9f6-de5f7a35db8e"
      },
      "execution_count": 368,
      "outputs": [
        {
          "output_type": "stream",
          "name": "stdout",
          "text": [
            "PROMPT\n",
            "bayi yaɽa ŋunȷaymuŋa baŋgu gurugugu biŋgunman. > Booze is making the man that is always being blamed tired.\n",
            "balan yabu bimabanȷalŋaymuŋa baŋgul yaɽaŋgu guliŋgu ŋunȷaɲu. > The strong man is blaming the mother that is always following death adders.\n",
            "balan waymin bambun baŋgu ȷugaŋgu ȷamiman. > Sugar is making the healthy mother-in-law fat.\n",
            "bala yila wura baŋgul bargandu biŋgundu guniɲu. > The tired wallaby is searching for the little feather.\n",
            "balan malayigara baŋgu garandu biŋgunman. > The smoke is making the scorpion tired.\n",
            "bala gurugu baŋgul ŋumaŋgu munduŋgu dimbaɲu. > The offended father is carrying the booze.\n",
            "bayi midin baŋgun bimaŋgu malayigaraguninaymuŋagu banȷan. > The death adder that is always searching for scorpions is following the possum.\n",
            "bayi gubimbulu biŋgun baŋgu gurugugu ȷagunman. > Booze is making the tired doctor fall asleep.\n",
            "bala garan baŋgul biɲȷiriɲȷu banȷan. > The lizard is following the smoke.\n",
            "balan duŋan baŋgul yiriɲȷilagu guniɲu. > The dragonfly is searching for the stinging tree.\n",
            "bala ȷuga baŋgun yabuŋgu ŋaȷilmuŋagu dimbaɲu. > The mother that is always being ignored is carrying the sugar.\n",
            "bala diban ȷagiɲ baŋgul gubimbulugu ȷamiŋgu bilmban. > The fat doctor is pushing the big stone.\n",
            "bala garan baŋgun waymindu dibanbilmbalŋaymuŋagu buóan. > The mother-in-law that is always pushing stones is looking at the smoke.\n",
            "balan baŋgay waɽu baŋgun bundiɲȷu ȷagiɲȷu guniɲu. > The big grasshopper is searching for the bent spear.\n",
            "bayi biɲȷiriɲ biŋgun baŋgul ɲalŋgaŋgu mugurugu buɽan. > The quiet boy is looking at the tired lizard.\n",
            "bayi ŋuma guli baŋgul yaɽaŋgu banȷalmuŋagu munduman. > The man that is always being followed is offending the strong father.\n",
            "bayimbam > (grub/caterpillar)\n",
            "mugunanȷa > (aunt/mother’s elder sister)\n",
            "muŋga > loud noise\n",
            "balan ɲalŋga baŋgul ŋumaŋgu guniymuŋagu bambunman. > \n",
            "bala diban bilmbalmuŋa baŋgun biɲȷiriɲȷu guniɲu. > \n",
            "bayi bargan baŋgul yaɽaŋgu gubimbuluŋunȷanaymuŋagu banȷan. > \n",
            "bayi yiriɲȷila baŋgul bargandu wuraŋgu buɽan. > \n",
            "bala yila baŋgun mugunanȷagu banȷalmuŋagu waɽuman. > \n",
            "bala muŋga baŋgul midindu ȷagundu ŋaȷin. > \n",
            "bayi yaɽa dibandimbanaymuŋa baŋgul bayimbambu guniɲu. > \n",
            "\n",
            "\n",
            "EXPECTED RESPONSE\n",
            "The father that is always being searched for is healing the girl.\n",
            "The lizard is searching for the stone that is always being pushed.\n",
            "The man that is always blaming doctors is following the wallaby.\n",
            "The little wallaby is looking at the dragonfly.\n",
            "The aunt that is always being followed is bending the feather.\n",
            "The sleeping possum is ignoring the loud noise.\n",
            "The caterpillar is searching for the man that is always carrying stones.\n"
          ]
        }
      ]
    },
    {
      "cell_type": "code",
      "source": [
        "model = \"gpt-3.5-turbo\"\n",
        "\n",
        "for path in ['/content/ft_symbolized_data.jsonl', \"/content/ft_augmented_data.jsonl\",\"/content/original_dataset.jsonl\"]:\n",
        "  finetune(path, model)\n"
      ],
      "metadata": {
        "id": "w6jXFBEa-28N"
      },
      "execution_count": 367,
      "outputs": []
    },
    {
      "cell_type": "code",
      "source": [
        "## AFTER FT COMPLETION\n",
        "\n",
        "model_paths = { \"base\": model,\n",
        "\n",
        "                \"symb\":\"ft:gpt-3.5-turbo-0125:personal::B4M8JAr2\",\n",
        "                \"og\":\"ft:gpt-3.5-turbo-0125:personal::B4M0DjgZ\",\n",
        "                \"aug\":\"ft:gpt-3.5-turbo-0125:personal::B4MBEcun\"\n",
        "\n",
        "\n",
        "\n",
        "               # \"ft_symb\":\"ft:gpt-3.5-turbo-0125:personal::B4L7LGDe\", # 3 epochs, stop at step ~450 batch_size 1, lr mult 2, final train loss 1.2185\n",
        "               # \"ft_aug\":\"ft:gpt-3.5-turbo-0125:personal::B4L6ZbLP\", # 3 epochs, stop at step ~450 batch_size 1, lr mult 2, final train loss 0.1344\n",
        "               # \"ft_og\":\"ft:gpt-3.5-turbo-0125:personal::B4KzB1PO\", # 10 epochs, stop at step ~100 batch_size 1, lr mult 2, final train loss 0.0167\n",
        "\n",
        "               # \"prev_symb\":\"ft:gpt-3.5-turbo-0125:personal::B3WxHG8u\", # 3 epochs, stop at step ~180 batch_size 1, lr mult 2, final train loss 0.3336\n",
        "\n",
        "               # \"ft_symb_2way\":\"ft:gpt-3.5-turbo-0125:personal::B4KV5Etq\", # 3 epochs, stop at step ~900 batch_size 1, lr mult 2, final train loss 0.8644\n",
        "               # \"ft_aug_2way\":\"ft:gpt-3.5-turbo-0125:personal::B4KUJrjh\", # 3 epochs, stop at step ~900 batch_size 1, lr mult 2,  final train loss 0.0001\n",
        "               # \"ft_og_2way\":\"ft:gpt-3.5-turbo-0125:personal::B4KCJTJw\", # 5 epochs, stop at step 100, batch_size 1, lr mult 2, final train loss 0.5300\n",
        "\n",
        "               # \"ft_aug_step300\":\"ft:gpt-3.5-turbo-0125:personal::B4KUISNh:ckpt-step-300\",\n",
        "               # \"ft_aug_step600\":\"ft:gpt-3.5-turbo-0125:personal::B4KUIKB6:ckpt-step-600\",\n",
        "               # \"ft_symb_step300\":\"ft:gpt-3.5-turbo-0125:personal::B4KV5uSq:ckpt-step-300\",\n",
        "               # \"ft_symb_step600\":\"ft:gpt-3.5-turbo-0125:personal::B4KV5Inv:ckpt-step-600\"\n",
        "               # \"ft_symb_noaug\":\"\",\n",
        "               }\n",
        ""
      ],
      "metadata": {
        "id": "1E8Qat_c_CLO"
      },
      "execution_count": 376,
      "outputs": []
    },
    {
      "cell_type": "markdown",
      "source": [
        "Eval"
      ],
      "metadata": {
        "id": "Gz7Yu4Fl_UT2"
      }
    },
    {
      "cell_type": "code",
      "source": [
        "d = getFullPreds(model_paths)\n",
        "\n",
        "with open(\"/content/modeLing_results.txt\", \"w\") as f:\n",
        "  f.write(str(d))"
      ],
      "metadata": {
        "id": "-1huACLJ_VWb"
      },
      "execution_count": 392,
      "outputs": []
    },
    {
      "cell_type": "code",
      "source": [
        "scores = score(model_paths, d)\n",
        "\n",
        "with open(\"/content/modeLing_scores.txt\", \"w\") as f:\n",
        "  f.write(str(scores))"
      ],
      "metadata": {
        "id": "TKz0zN2Plngr"
      },
      "execution_count": 393,
      "outputs": []
    },
    {
      "cell_type": "code",
      "source": [
        "print(scores)"
      ],
      "metadata": {
        "id": "4xmshV6pCFlK"
      },
      "execution_count": null,
      "outputs": []
    },
    {
      "cell_type": "code",
      "source": [
        "import seaborn as sns\n",
        "import pandas as pd\n",
        "import re\n",
        "\n",
        "df = pd.DataFrame(scores)"
      ],
      "metadata": {
        "id": "enu7I8eFQgXG"
      },
      "execution_count": null,
      "outputs": []
    },
    {
      "cell_type": "code",
      "source": [
        "pd.set_option('display.max_columns', None)\n",
        "\n",
        "df"
      ],
      "metadata": {
        "id": "_BLmjIrMfaQk"
      },
      "execution_count": null,
      "outputs": []
    },
    {
      "cell_type": "code",
      "source": [
        "diff_cols = [c for c in df.columns if len(re.sub('[^0-9]', '', c)) != 0]\n",
        "diff_df =  df[diff_cols].T\n"
      ],
      "metadata": {
        "id": "ZFjWbwkuQ4GA"
      },
      "execution_count": 400,
      "outputs": []
    },
    {
      "cell_type": "code",
      "source": [
        "diff_df['diff'] = diff_df.index.map(lambda x: int(re.sub('[^0-9]', '', x)))\n",
        "diff_df['model'] = diff_df.index.map(lambda x: x[:-2])"
      ],
      "metadata": {
        "id": "yUuUfDn1UXD-"
      },
      "execution_count": 401,
      "outputs": []
    },
    {
      "cell_type": "code",
      "source": [
        "sns.lineplot(data=diff_df, x='diff', y='chrf', hue='model')"
      ],
      "metadata": {
        "colab": {
          "base_uri": "https://localhost:8080/",
          "height": 467
        },
        "id": "ZQCR3KpZs15U",
        "outputId": "1ca154b8-d001-451e-d3c8-f5df10c5bcfe"
      },
      "execution_count": 390,
      "outputs": [
        {
          "output_type": "execute_result",
          "data": {
            "text/plain": [
              "<Axes: xlabel='diff', ylabel='chrf'>"
            ]
          },
          "metadata": {},
          "execution_count": 390
        },
        {
          "output_type": "display_data",
          "data": {
            "text/plain": [
              "<Figure size 640x480 with 1 Axes>"
            ],
            "image/png": "[encoded data removed]"
          },
          "metadata": {}
        }
      ]
    },
    {
      "cell_type": "code",
      "source": [
        "sns.lineplot(data=diff_df, x='diff', y='exact_match', hue='model')"
      ],
      "metadata": {
        "colab": {
          "base_uri": "https://localhost:8080/",
          "height": 467
        },
        "id": "9hQS6nIgUOV9",
        "outputId": "08a25b72-c634-46a2-f994-15e89e5c4511"
      },
      "execution_count": 387,
      "outputs": [
        {
          "output_type": "execute_result",
          "data": {
            "text/plain": [
              "<Axes: xlabel='diff', ylabel='exact_match'>"
            ]
          },
          "metadata": {},
          "execution_count": 387
        },
        {
          "output_type": "display_data",
          "data": {
            "text/plain": [
              "<Figure size 640x480 with 1 Axes>"
            ],
            "image/png": "[encoded data removed]"
          },
          "metadata": {}
        }
      ]
    },
    {
      "cell_type": "code",
      "source": [],
      "metadata": {
        "id": "QPuUQ-qHCHic"
      },
      "execution_count": null,
      "outputs": []
    },
    {
      "cell_type": "markdown",
      "source": [
        "# ignore // dont run!"
      ],
      "metadata": {
        "id": "TB5jlAlmaBBg"
      }
    },
    {
      "cell_type": "code",
      "source": [
        "!python3 /content/evaluate.py ../ /content/ ## FT AUG\n",
        "\n",
        "'''\n",
        "Number of translations in total: 89\n",
        "Number of English -> Foreign translations: 45\n",
        "Number of Foreign -> English translations: 44\n",
        "EF_BLEU_SCORE : 7.573885089919696\n",
        "EF_CHRF_SCORE : 27.503135873005608\n",
        "EF_CTER_SCORE : 21.071831681497365\n",
        "EF_EM_SCORE : 6.666666666666667\n",
        "FE_BLEU_SCORE : 21.033605691913746\n",
        "FE_CHRF_SCORE : 36.13924836549995\n",
        "FE_CTER_SCORE : 25.41428594154193\n",
        "FE_EM_SCORE : 6.8181818181818175\n",
        "BLEU_SCORE : 14.228128983040353\n",
        "CHRF_SCORE : 31.772674633339896\n",
        "CTER_SCORE : 23.218663001069956\n",
        "EM_SCORE : 6.741573033707865\n",
        "Evaluation Completed\n",
        "'''"
      ],
      "metadata": {
        "colab": {
          "base_uri": "https://localhost:8080/"
        },
        "id": "9uNxnWAYKBLX",
        "outputId": "9437504f-cc25-4e15-cd23-56e070029b62"
      },
      "execution_count": 110,
      "outputs": [
        {
          "output_type": "stream",
          "name": "stdout",
          "text": [
            "Number of translations in total: 89\n",
            "Number of English -> Foreign translations: 45\n",
            "Number of Foreign -> English translations: 44\n",
            "EF_BLEU_SCORE : 7.573885089919696\n",
            "EF_CHRF_SCORE : 27.503135873005608\n",
            "EF_CTER_SCORE : 21.071831681497365\n",
            "EF_EM_SCORE : 6.666666666666667\n",
            "FE_BLEU_SCORE : 21.033605691913746\n",
            "FE_CHRF_SCORE : 36.13924836549995\n",
            "FE_CTER_SCORE : 25.41428594154193\n",
            "FE_EM_SCORE : 6.8181818181818175\n",
            "BLEU_SCORE : 14.228128983040353\n",
            "CHRF_SCORE : 31.772674633339896\n",
            "CTER_SCORE : 23.218663001069956\n",
            "EM_SCORE : 6.741573033707865\n",
            "Evaluation Completed\n"
          ]
        }
      ]
    },
    {
      "cell_type": "code",
      "source": [
        "!python3 /content/EVAL/evaluate.py /content /content ## BASELINE\n",
        "\n",
        "'''\n",
        "Number of translations in total: 89\n",
        "Number of English -> Foreign translations: 45\n",
        "Number of Foreign -> English translations: 44\n",
        "EF_BLEU_SCORE : 2.659651922361734\n",
        "EF_CHRF_SCORE : 27.894373515004013\n",
        "EF_CTER_SCORE : 15.908108775430446\n",
        "EF_EM_SCORE : 0.0\n",
        "FE_BLEU_SCORE : 26.184986600943194\n",
        "FE_CHRF_SCORE : 40.00523956566664\n",
        "FE_CTER_SCORE : 30.432074666227205\n",
        "FE_EM_SCORE : 9.090909090909092\n",
        "BLEU_SCORE : 14.290154460087404\n",
        "CHRF_SCORE : 33.881767967017\n",
        "CTER_SCORE : 23.088496406835585\n",
        "EM_SCORE : 4.49438202247191\n",
        "Evaluation Completed\n",
        "'''"
      ],
      "metadata": {
        "colab": {
          "base_uri": "https://localhost:8080/"
        },
        "id": "Ay6sGqq-TbtP",
        "outputId": "d999e43b-8f2c-4c9b-a31a-72375260de4c"
      },
      "execution_count": null,
      "outputs": [
        {
          "output_type": "stream",
          "name": "stdout",
          "text": [
            "Number of translations in total: 89\n",
            "Number of English -> Foreign translations: 45\n",
            "Number of Foreign -> English translations: 44\n",
            "EF_BLEU_SCORE : 2.659651922361734\n",
            "EF_CHRF_SCORE : 27.894373515004013\n",
            "EF_CTER_SCORE : 15.908108775430446\n",
            "EF_EM_SCORE : 0.0\n",
            "FE_BLEU_SCORE : 26.184986600943194\n",
            "FE_CHRF_SCORE : 40.00523956566664\n",
            "FE_CTER_SCORE : 30.432074666227205\n",
            "FE_EM_SCORE : 9.090909090909092\n",
            "BLEU_SCORE : 14.290154460087404\n",
            "CHRF_SCORE : 33.881767967017\n",
            "CTER_SCORE : 23.088496406835585\n",
            "EM_SCORE : 4.49438202247191\n",
            "Evaluation Completed\n"
          ]
        }
      ]
    },
    {
      "cell_type": "code",
      "source": [
        "!python3 /content/EVAL/evaluate.py /content/dev /content ## symbol tuned\n",
        "\n",
        "'''\n",
        "Number of translations in total: 89\n",
        "Number of English -> Foreign translations: 45\n",
        "Number of Foreign -> English translations: 44\n",
        "EF_BLEU_SCORE : 34.44366300027654\n",
        "EF_CHRF_SCORE : 61.55933444934497\n",
        "EF_CTER_SCORE : 52.62853990898678\n",
        "EF_EM_SCORE : 33.33333333333333\n",
        "FE_BLEU_SCORE : 15.544867327917105\n",
        "FE_CHRF_SCORE : 32.465576000228026\n",
        "FE_CTER_SCORE : 22.83047967444294\n",
        "FE_EM_SCORE : 11.363636363636363\n",
        "BLEU_SCORE : 25.100438173492094\n",
        "CHRF_SCORE : 47.17590330596131\n",
        "CTER_SCORE : 37.896914624493206\n",
        "EM_SCORE : 22.47191011235955\n",
        "Evaluation Completed\n",
        "'''"
      ],
      "metadata": {
        "colab": {
          "base_uri": "https://localhost:8080/"
        },
        "id": "PjULC0-g0ejV",
        "outputId": "a9dc7f0e-39cf-4ab3-d224-f3dd7f7381f1"
      },
      "execution_count": null,
      "outputs": [
        {
          "output_type": "stream",
          "name": "stdout",
          "text": [
            "Number of translations in total: 89\n",
            "Number of English -> Foreign translations: 45\n",
            "Number of Foreign -> English translations: 44\n",
            "EF_BLEU_SCORE : 34.44366300027654\n",
            "EF_CHRF_SCORE : 61.55933444934497\n",
            "EF_CTER_SCORE : 52.62853990898678\n",
            "EF_EM_SCORE : 33.33333333333333\n",
            "FE_BLEU_SCORE : 15.544867327917105\n",
            "FE_CHRF_SCORE : 32.465576000228026\n",
            "FE_CTER_SCORE : 22.83047967444294\n",
            "FE_EM_SCORE : 11.363636363636363\n",
            "BLEU_SCORE : 25.100438173492094\n",
            "CHRF_SCORE : 47.17590330596131\n",
            "CTER_SCORE : 37.896914624493206\n",
            "EM_SCORE : 22.47191011235955\n",
            "Evaluation Completed\n"
          ]
        }
      ]
    },
    {
      "cell_type": "code",
      "source": [],
      "metadata": {
        "id": "VMUnGtaxdJrK"
      },
      "execution_count": null,
      "outputs": []
    }
  ]
}
